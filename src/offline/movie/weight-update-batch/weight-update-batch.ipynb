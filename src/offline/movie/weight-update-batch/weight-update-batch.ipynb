{
 "cells": [
  {
   "cell_type": "code",
   "execution_count": 3,
   "metadata": {},
   "outputs": [
    {
     "name": "stdout",
     "output_type": "stream",
     "text": [
      "rm: cannot remove ‘info/*’: No such file or directory\r\n"
     ]
    }
   ],
   "source": [
    "!rm -r info/*"
   ]
  },
  {
   "cell_type": "code",
   "execution_count": 7,
   "metadata": {},
   "outputs": [],
   "source": [
    "# portrait batch logic\n",
    "import argparse\n",
    "import logging\n",
    "import pickle\n",
    "import re\n",
    "import os\n",
    "\n",
    "import boto3\n",
    "import numpy as np\n",
    "import pandas as pd\n",
    "from tqdm import tqdm\n"
   ]
  },
  {
   "cell_type": "code",
   "execution_count": 8,
   "metadata": {},
   "outputs": [],
   "source": [
    "tqdm_notebook.pandas()"
   ]
  },
  {
   "cell_type": "code",
   "execution_count": 9,
   "metadata": {},
   "outputs": [
    {
     "name": "stdout",
     "output_type": "stream",
     "text": [
      "bucket=sagemaker-us-east-1-002224604296\n",
      "prefix='recommender-system-film-mk/1'\n",
      "file preparation: download src key recommender-system-film-mk/1/system/user-data/clean/latest/action.csv to dst key info/action.csv\n",
      "file preparation: download src key recommender-system-film-mk/1/model/recall/recall_config.pickle to dst key info/recall_config.pickle\n"
     ]
    },
    {
     "name": "stderr",
     "output_type": "stream",
     "text": [
      "2021-03-31:05:20:08,417 INFO     [utils.py:141] NumExpr defaulting to 4 threads.\n",
      "100%|██████████| 1802/1802 [00:00<00:00, 7084.04it/s]"
     ]
    },
    {
     "name": "stdout",
     "output_type": "stream",
     "text": [
      "config recall\n"
     ]
    },
    {
     "name": "stderr",
     "output_type": "stream",
     "text": [
      "\n"
     ]
    }
   ],
   "source": [
    "########################################\n",
    "# 从s3同步数据\n",
    "########################################\n",
    "def sync_s3(file_name_list, s3_folder, local_folder):\n",
    "    for f in file_name_list:\n",
    "        print(\"file preparation: download src key {} to dst key {}\".format(os.path.join(\n",
    "            s3_folder, f), os.path.join(local_folder, f)))\n",
    "        s3client.download_file(bucket, os.path.join(\n",
    "            s3_folder, f), os.path.join(local_folder, f))\n",
    "\n",
    "\n",
    "def write_to_s3(filename, bucket, key):\n",
    "    with open(filename, 'rb') as f:  # Read in binary mode\n",
    "        return s3client.upload_fileobj(f, bucket, key)\n",
    "\n",
    "\n",
    "default_bucket = 'sagemaker-us-east-1-002224604296'\n",
    "default_mk_region = '1'\n",
    "level_1 = 'recommender-system-film-mk'\n",
    "\n",
    "parser = argparse.ArgumentParser()\n",
    "parser.add_argument('--bucket', type=str, default=default_bucket)\n",
    "parser.add_argument('--mk-region', type=str, default=default_mk_region)\n",
    "\n",
    "args, _ = parser.parse_known_args()\n",
    "bucket = args.bucket\n",
    "mk_region = args.mk_region\n",
    "\n",
    "prefix = f\"{level_1}/{mk_region}\"\n",
    "\n",
    "print(\"bucket={}\".format(bucket))\n",
    "print(\"prefix='{}'\".format(prefix))\n",
    "\n",
    "s3client = boto3.client('s3')\n",
    "local_folder = 'info'\n",
    "if not os.path.exists(local_folder):\n",
    "    os.makedirs(local_folder)\n",
    "# 行为数据加载\n",
    "file_name_list = ['action.csv']\n",
    "s3_folder = '{}/system/user-data/clean/latest'.format(prefix)\n",
    "sync_s3(file_name_list, s3_folder, local_folder)\n",
    "\n",
    "file_name_list = ['recall_config.pickle']\n",
    "s3_folder = '{}/model/recall'.format(prefix)\n",
    "sync_s3(file_name_list, s3_folder, local_folder)\n",
    "\n",
    "# 加载用户数据\n",
    "user_click_records = {}\n",
    "data_mk = pd.read_csv('info/action.csv',sep='\\t')\n",
    "for reviewerID, hist in tqdm(data_mk[(data_mk['label'] == 1) & (data_mk['programType'] == 1)].groupby('userid')):\n",
    "    pos_list = hist['programId'].tolist()\n",
    "    user_click_records[reviewerID] = pos_list\n",
    "# 加载pickle文件\n",
    "file_to_load = open(\"info/recall_config.pickle\", \"rb\")\n",
    "recall_config = pickle.load(file_to_load)\n",
    "print(\"config recall\")"
   ]
  },
  {
   "cell_type": "code",
   "execution_count": 10,
   "metadata": {},
   "outputs": [
    {
     "data": {
      "text/plain": [
       "{'mt_topn': {'category': 10,\n",
       "  'director': 10,\n",
       "  'actor': 10,\n",
       "  'language': 10,\n",
       "  'level': 10,\n",
       "  'year': 10,\n",
       "  'review': 10,\n",
       "  'photo': 10,\n",
       "  'portrait_category': 10,\n",
       "  'portrait_director': 10,\n",
       "  'portrait_actor': 10,\n",
       "  'portrait_language': 10,\n",
       "  'portrait_ub': 10},\n",
       " 'pos_weights': {'category': {'w': 0.5, 'b': 0.2},\n",
       "  'director': {'w': 0.5, 'b': 0.2},\n",
       "  'actor': {'w': 0.5, 'b': 0.2},\n",
       "  'language': {'w': 0.5, 'b': 0.2},\n",
       "  'level': {'w': 0.5, 'b': 0.2},\n",
       "  'year': {'w': 0.5, 'b': 0.2},\n",
       "  'portrait_category': {'w': 0.5, 'b': 0.2},\n",
       "  'portrait_director': {'w': 0.5, 'b': 0.2},\n",
       "  'portrait_actor': {'w': 0.5, 'b': 0.2},\n",
       "  'portrait_language': {'w': 0.5, 'b': 0.2}},\n",
       " 'mt_weights': {'category': 1.0,\n",
       "  'director': 1.0,\n",
       "  'actor': 1.0,\n",
       "  'language': 1.0,\n",
       "  'level': 1.0,\n",
       "  'year': 1.0,\n",
       "  'portrait_category': 1.0,\n",
       "  'portrait_director': 1.0,\n",
       "  'portrait_actor': 1.0,\n",
       "  'portrait_language': 1.0,\n",
       "  'portrait_ub': 1.0},\n",
       " 'pop_mt_list': ['category', 'director', 'actor', 'language', 'level', 'year'],\n",
       " 'portrait_mt_list': ['category', 'director', 'actor', 'language'],\n",
       " 'merge_cnt': 100}"
      ]
     },
     "execution_count": 10,
     "metadata": {},
     "output_type": "execute_result"
    }
   ],
   "source": [
    "recall_config"
   ]
  },
  {
   "cell_type": "markdown",
   "metadata": {},
   "source": [
    "# update position weights"
   ]
  },
  {
   "cell_type": "code",
   "execution_count": 12,
   "metadata": {},
   "outputs": [],
   "source": [
    "import numpy as np\n",
    "from sklearn.linear_model import LinearRegression"
   ]
  },
  {
   "cell_type": "code",
   "execution_count": 44,
   "metadata": {},
   "outputs": [],
   "source": [
    "# X 为某种策略推荐的位置，比如是策略category，推荐位置为0，则这个数值就为0。假设下面为策略“category”推荐的1/3/5/10位置\n",
    "X = np.array([[1], [3], [5], [10]])\n",
    "# Y 为某种策略推荐的位置对应的点击率（该位置点击的数量/该位置总共曝光的数量；如果总共曝光数量太少，可以先用该策略总共曝光的数量为分母），\n",
    "# 假设下面为策略“category”推荐的1/3/5/10位置的点击率\n",
    "y = np.array([[0.3], [0.2], [0.001], [0]])\n",
    "bias = 0\n",
    "y = y + bias"
   ]
  },
  {
   "cell_type": "code",
   "execution_count": 45,
   "metadata": {},
   "outputs": [],
   "source": [
    "reg = LinearRegression().fit(X,y)"
   ]
  },
  {
   "cell_type": "code",
   "execution_count": 48,
   "metadata": {},
   "outputs": [
    {
     "name": "stdout",
     "output_type": "stream",
     "text": [
      "the w is [[-0.03295531]] and b is [0.28178771]\n"
     ]
    }
   ],
   "source": [
    "# 则该方法的更新权重为（'category': {'w': -0.03295531, 'b': 0.28178771}）\n",
    "print(\"the w is {} and b is {}\".format(reg.coef_, reg.intercept_))"
   ]
  },
  {
   "cell_type": "markdown",
   "metadata": {},
   "source": [
    "# update method weights"
   ]
  },
  {
   "cell_type": "code",
   "execution_count": 70,
   "metadata": {},
   "outputs": [
    {
     "data": {
      "text/plain": [
       "[[0.09030913511635984],\n",
       " [0.09378256339006599],\n",
       " [0.09204584925321291],\n",
       " [0.08857242097950677],\n",
       " [0.09551927752691906],\n",
       " [0.08822507815213615],\n",
       " [0.09378256339006599],\n",
       " [0.08857242097950677],\n",
       " [0.09204584925321291],\n",
       " [0.09030913511635984],\n",
       " [0.08683570684265368]]"
      ]
     },
     "execution_count": 70,
     "metadata": {},
     "output_type": "execute_result"
    }
   ],
   "source": [
    "from sklearn.preprocessing import MinMaxScaler\n",
    "# 假设统计了所有的mt的点击率如下\n",
    "y = [0.02, 0.04, 0.03, 0.01, 0.05, 0.008, 0.04, 0.01, 0.03, 0.02, 0]\n",
    "bias = 0.5\n",
    "y = [e+bias for e in y]\n",
    "y_sum = np.sum(y)\n",
    "new_mt_weight = []\n",
    "for mt_click in y:\n",
    "    new_mt_weight.append([mt_click/y_sum])\n",
    "\n",
    "scaler = MinMaxScaler()\n",
    "scaler.fit(new_mt_weight)\n",
    "scaler.transform(new_mt_weight)\n",
    "# 则归一化后每个method的权重为\n",
    "new_mt_weight"
   ]
  }
 ],
 "metadata": {
  "kernelspec": {
   "display_name": "Python [conda env:tensorflow_p36]",
   "language": "python",
   "name": "conda-env-tensorflow_p36-py"
  },
  "language_info": {
   "codemirror_mode": {
    "name": "ipython",
    "version": 3
   },
   "file_extension": ".py",
   "mimetype": "text/x-python",
   "name": "python",
   "nbconvert_exporter": "python",
   "pygments_lexer": "ipython3",
   "version": "3.6.10"
  }
 },
 "nbformat": 4,
 "nbformat_minor": 4
}
